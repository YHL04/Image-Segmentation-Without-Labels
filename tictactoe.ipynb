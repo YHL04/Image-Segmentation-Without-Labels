{
  "nbformat": 4,
  "nbformat_minor": 0,
  "metadata": {
    "colab": {
      "name": "tictactoe.ipynb",
      "provenance": [],
      "collapsed_sections": [],
      "authorship_tag": "ABX9TyNsBHDICasuwJfUP8VI1umB",
      "include_colab_link": true
    },
    "kernelspec": {
      "name": "python3",
      "display_name": "Python 3"
    }
  },
  "cells": [
    {
      "cell_type": "markdown",
      "metadata": {
        "id": "view-in-github",
        "colab_type": "text"
      },
      "source": [
        "<a href=\"https://colab.research.google.com/github/YHL04/Image-Segmentation-Without-Labels/blob/main/tictactoe.ipynb\" target=\"_parent\"><img src=\"https://colab.research.google.com/assets/colab-badge.svg\" alt=\"Open In Colab\"/></a>"
      ]
    },
    {
      "cell_type": "code",
      "metadata": {
        "id": "FFRNN-IInJAD"
      },
      "source": [
        "import numpy as np\r\n",
        "\r\n",
        "class TicTacToe:\r\n",
        "  def __init__(self):\r\n",
        "    self.s = [0 for _ in range(9)]\r\n",
        "\r\n",
        "    self.turn = 1\r\n",
        "    self.history = []  \r\n",
        "\r\n",
        "  \r\n",
        "  def render(self):\r\n",
        "    print('turn: ', self.turn)\r\n",
        "    if game.over():\r\n",
        "      print('Winner: ', self.score())\r\n",
        "    \r\n",
        "    print(self.s[0:3])\r\n",
        "    print(self.s[3:6])\r\n",
        "    print(self.s[6:9])\r\n",
        "\r\n",
        "  def get_valid_moves(self):\r\n",
        "    return [i for i, n in enumerate(self.s) if n == 0]\r\n",
        "\r\n",
        "  def make_move(self, move):\r\n",
        "    assert self.s[move] == 0\r\n",
        "    self.s[move] = self.turn\r\n",
        "    self.turn = -self.turn\r\n",
        "    self.history.append(move)\r\n",
        "\r\n",
        "  def undo_move(self):\r\n",
        "    move = self.history[-1]\r\n",
        "    self.s[move] = 0\r\n",
        "    self.turn = -self.turn\r\n",
        "    self.history.pop()\r\n",
        "\r\n",
        "  \r\n",
        "  def over(self):\r\n",
        "    if 0 not in self.s:\r\n",
        "      return True\r\n",
        "\r\n",
        "    for i in range(3):\r\n",
        "      if self.s[i] == self.s[i+3] == self.s[i+6] != 0:\r\n",
        "        return True\r\n",
        "\r\n",
        "      if self.s[i*3] == self.s[i*3+1] == self.s[i*3+2] != 0:\r\n",
        "        return True\r\n",
        "\r\n",
        "    if self.s[0] == self.s[4] == self.s[8] != 0:\r\n",
        "      return True\r\n",
        "\r\n",
        "    if self.s[2] == self.s[4] == self.s[6] != 0:\r\n",
        "      return True\r\n",
        "\r\n",
        "    return False\r\n",
        "\r\n",
        "  def score(self):\r\n",
        "    '''\r\n",
        "    only call this after game.over() == True\r\n",
        "    return 1 if either players won\r\n",
        "    return 0 if draw\r\n",
        "    '''\r\n",
        "    \r\n",
        "    for i in range(3):\r\n",
        "      if self.s[i] == self.s[i+3] == self.s[i+6] != 0:\r\n",
        "        return 1\r\n",
        "\r\n",
        "      if self.s[i*3] == self.s[i*3+1] == self.s[i*3+2] != 0:\r\n",
        "        return 1\r\n",
        "\r\n",
        "    if self.s[0] == self.s[4] == self.s[8] != 0:\r\n",
        "      return 1\r\n",
        "\r\n",
        "    if self.s[2] == self.s[4] == self.s[6] != 0:\r\n",
        "      return 1\r\n",
        "\r\n",
        "      \r\n",
        "    return 0\r\n"
      ],
      "execution_count": null,
      "outputs": []
    },
    {
      "cell_type": "code",
      "metadata": {
        "id": "WCL89m3L83Gn",
        "colab": {
          "base_uri": "https://localhost:8080/"
        },
        "outputId": "22cd2f28-ec99-4c60-ebd8-8817abe1a41a"
      },
      "source": [
        "game = TicTacToe()\r\n",
        "\r\n",
        "for i in range(7):\r\n",
        "  game.render()\r\n",
        "  game.make_move(i)\r\n",
        "\r\n",
        "game.render()"
      ],
      "execution_count": null,
      "outputs": [
        {
          "output_type": "stream",
          "text": [
            "turn:  1\n",
            "[0, 0, 0]\n",
            "[0, 0, 0]\n",
            "[0, 0, 0]\n",
            "turn:  -1\n",
            "[1, 0, 0]\n",
            "[0, 0, 0]\n",
            "[0, 0, 0]\n",
            "turn:  1\n",
            "[1, -1, 0]\n",
            "[0, 0, 0]\n",
            "[0, 0, 0]\n",
            "turn:  -1\n",
            "[1, -1, 1]\n",
            "[0, 0, 0]\n",
            "[0, 0, 0]\n",
            "turn:  1\n",
            "[1, -1, 1]\n",
            "[-1, 0, 0]\n",
            "[0, 0, 0]\n",
            "turn:  -1\n",
            "[1, -1, 1]\n",
            "[-1, 1, 0]\n",
            "[0, 0, 0]\n",
            "turn:  1\n",
            "[1, -1, 1]\n",
            "[-1, 1, -1]\n",
            "[0, 0, 0]\n",
            "turn:  -1\n",
            "Winner:  1\n",
            "[1, -1, 1]\n",
            "[-1, 1, -1]\n",
            "[1, 0, 0]\n"
          ],
          "name": "stdout"
        }
      ]
    },
    {
      "cell_type": "code",
      "metadata": {
        "colab": {
          "base_uri": "https://localhost:8080/"
        },
        "id": "Kkx8Kefn8AkA",
        "outputId": "3f6aef5d-30e5-4024-9477-8590a18ebe6c"
      },
      "source": [
        "\n",
        "game = TicTacToe()\n",
        "\n",
        "def value(game):\n",
        "  if game.over():\n",
        "    return -game.score()\n",
        "    \n",
        "  state_values = []\n",
        "  for move in game.get_valid_moves():\n",
        "    game.make_move(move)\n",
        "    state_values.append(-value(game))\n",
        "    game.undo_move()\n",
        "\n",
        "  return max(state_values)\n",
        "\n",
        "\n",
        "def ai_best_move(game):\n",
        "    action_dict = {}\n",
        "    for move in game.get_valid_moves():\n",
        "        game.make_move(move)\n",
        "        action_dict[move] = value(game)\n",
        "        game.undo_move()\n",
        "\n",
        "    return action_dict\n",
        "    #return min(action_dict, key=action_dict.get)\n",
        "\n",
        "\n",
        "# game.render()\n",
        "# while not game.over():\n",
        "#   player = int(input())\n",
        "#   game.make_move(player)\n",
        "#   game.render()\n",
        "#   if game.over():\n",
        "#     break\n",
        "#   game.make_move(ai_best_move(game))\n",
        "#   game.render()\n",
        "\n",
        "game.make_move(0)\n",
        "game.make_move(1)\n",
        "game.make_move(2)\n",
        "game.make_move(3)\n",
        "game.make_move(4)\n",
        "\n",
        "import json\n",
        "x = ai_best_move(game)\n",
        "game.render()\n",
        "print(json.dumps(x, indent=4, sort_keys=True))"
      ],
      "execution_count": null,
      "outputs": [
        {
          "output_type": "stream",
          "text": [
            "turn:  -1\n",
            "[1, -1, 1]\n",
            "[-1, 1, 0]\n",
            "[0, 0, 0]\n",
            "{\n",
            "    \"5\": 1,\n",
            "    \"6\": 1,\n",
            "    \"7\": 1,\n",
            "    \"8\": 1\n",
            "}\n"
          ],
          "name": "stdout"
        }
      ]
    }
  ]
}