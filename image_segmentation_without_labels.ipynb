{
  "nbformat": 4,
  "nbformat_minor": 0,
  "metadata": {
    "colab": {
      "name": "image_segmentation_without_labels.ipynb",
      "provenance": [],
      "collapsed_sections": []
    },
    "kernelspec": {
      "name": "python3",
      "display_name": "Python 3"
    }
  },
  "cells": [
    {
      "cell_type": "markdown",
      "metadata": {
        "id": "23Cc9Ou9sOMv"
      },
      "source": [
        "**Image segmentation without labelled data**\r\n",
        "\r\n",
        "One model classifies the image while the other tries to mask it.\r\n",
        "The mask model is incentivized to mask out the image while maintaining accuracy with the classification model. The idea is that the model will learn to mask out irrelevant background while preserving the object, creating segmentation that can be used to localize images on other datasets"
      ]
    },
    {
      "cell_type": "code",
      "metadata": {
        "colab": {
          "base_uri": "https://localhost:8080/"
        },
        "id": "TvIvNzkJb43v",
        "outputId": "e5de4fd5-5513-4163-b0a8-f50967782941"
      },
      "source": [
        "import tensorflow as tf\r\n",
        "import numpy as np\r\n",
        "\r\n",
        "mnist = tf.keras.datasets.mnist\r\n",
        "\r\n",
        "(x_train, y_train), (x_test, y_test) = mnist.load_data()\r\n",
        "x_train, x_test = x_train / 255.0, x_test / 255.0\r\n",
        "\r\n",
        "\r\n",
        "\r\n",
        "\r\n",
        "model = tf.keras.models.Sequential([\r\n",
        "  tf.keras.layers.Flatten(input_shape=(28, 28)),\r\n",
        "  tf.keras.layers.Dense(128, activation='relu'),\r\n",
        "  tf.keras.layers.Dropout(0.2),\r\n",
        "  tf.keras.layers.Dense(10, activation='softmax')\r\n",
        "])\r\n",
        "\r\n",
        "\r\n",
        "loss_fn = tf.keras.losses.SparseCategoricalCrossentropy()\r\n",
        "\r\n",
        "model.compile(optimizer='adam',\r\n",
        "              loss=loss_fn,\r\n",
        "              metrics=['accuracy'])\r\n",
        "\r\n",
        "model.fit(x_train, y_train, epochs=5)\r\n"
      ],
      "execution_count": 35,
      "outputs": [
        {
          "output_type": "stream",
          "text": [
            "Epoch 1/5\n",
            "1875/1875 [==============================] - 4s 2ms/step - loss: 0.4796 - accuracy: 0.8615\n",
            "Epoch 2/5\n",
            "1875/1875 [==============================] - 4s 2ms/step - loss: 0.1500 - accuracy: 0.9560\n",
            "Epoch 3/5\n",
            "1875/1875 [==============================] - 4s 2ms/step - loss: 0.1074 - accuracy: 0.9686\n",
            "Epoch 4/5\n",
            "1875/1875 [==============================] - 4s 2ms/step - loss: 0.0831 - accuracy: 0.9737\n",
            "Epoch 5/5\n",
            "1875/1875 [==============================] - 4s 2ms/step - loss: 0.0742 - accuracy: 0.9766\n"
          ],
          "name": "stdout"
        },
        {
          "output_type": "execute_result",
          "data": {
            "text/plain": [
              "<tensorflow.python.keras.callbacks.History at 0x7fe3b94f29b0>"
            ]
          },
          "metadata": {
            "tags": []
          },
          "execution_count": 35
        }
      ]
    },
    {
      "cell_type": "code",
      "metadata": {
        "id": "f3GkBytgctkR"
      },
      "source": [
        "import numpy as np\r\n",
        "\r\n",
        "mask_model = tf.keras.models.Sequential([\r\n",
        "  tf.keras.layers.Flatten(input_shape=(28, 28)),\r\n",
        "  tf.keras.layers.Dense(256, activation='relu'),\r\n",
        "  tf.keras.layers.Dense(256, activation='relu'),\r\n",
        "  tf.keras.layers.Dropout(0.2),\r\n",
        "  tf.keras.layers.Dense(28*28, activation='sigmoid')\r\n",
        "])\r\n",
        "\r\n"
      ],
      "execution_count": 36,
      "outputs": []
    },
    {
      "cell_type": "code",
      "metadata": {
        "colab": {
          "base_uri": "https://localhost:8080/"
        },
        "id": "AhXzEYFif_7B",
        "outputId": "3709d239-fff4-476d-e9ad-fce2eb86168f"
      },
      "source": [
        "from tensorflow.keras import backend as K\r\n",
        "\r\n",
        "sgd = tf.keras.losses.CategoricalCrossentropy()\r\n",
        "\r\n",
        "\r\n",
        "def loss_fn(y_pred, y_true, mask):\r\n",
        "  return sgd(y_pred, y_true) + K.cast(K.sum(mask) / 784, dtype='float64') / 20\r\n",
        "\r\n",
        "\r\n",
        "optimizer = tf.keras.optimizers.Adam(1e-4)\r\n",
        "\r\n",
        "\r\n",
        "def train_step(images, labels):\r\n",
        "  with tf.GradientTape() as tape:\r\n",
        "    mask = mask_model(images, training=True)\r\n",
        "    mask = tf.reshape(mask, [-1, 28, 28])\r\n",
        "    masked_images = mask * images\r\n",
        "\r\n",
        "    prediction = model(masked_images)\r\n",
        "\r\n",
        "    loss = loss_fn(prediction, labels, mask)\r\n",
        "\r\n",
        "    \r\n",
        "  gradients = tape.gradient(loss, mask_model.trainable_variables)\r\n",
        "\r\n",
        "  optimizer.apply_gradients(zip(gradients, mask_model.trainable_variables))\r\n",
        "\r\n",
        "  return loss\r\n",
        "\r\n",
        "\r\n",
        "def train(images, labels, epochs):\r\n",
        "\r\n",
        "  for epoch in range(epochs):\r\n",
        "    loss = 0\r\n",
        "    for image, label in zip(images, labels):\r\n",
        "      loss += train_step(image, label)\r\n",
        "    print('Epoch {}: {}'.format(epoch, loss))\r\n",
        "\r\n",
        "BATCH_SIZE = 32\r\n",
        "\r\n",
        "y = np.zeros((y_train.size, int(y_train.max()+1)))\r\n",
        "y_train = y_train.astype('int32')\r\n",
        "y[np.arange(y_train.size), y_train] = 1\r\n",
        "y_train = y\r\n",
        "\r\n",
        "x_train = x_train.reshape(-1, BATCH_SIZE, 28, 28)\r\n",
        "y_train = y_train.reshape(-1, BATCH_SIZE, 10)\r\n",
        "\r\n",
        "\r\n",
        "train(x_train, y_train, epochs=20)\r\n"
      ],
      "execution_count": 37,
      "outputs": [
        {
          "output_type": "stream",
          "text": [
            "Epoch 0: 2252.765571593495\n",
            "Epoch 1: 1849.5965847359996\n",
            "Epoch 2: 1680.82426250279\n",
            "Epoch 3: 1585.522637635004\n",
            "Epoch 4: 1515.6564897997305\n",
            "Epoch 5: 1452.5009518429608\n",
            "Epoch 6: 1398.1751341049574\n",
            "Epoch 7: 1350.9767822328956\n",
            "Epoch 8: 1306.5876168430793\n",
            "Epoch 9: 1267.0350126722863\n",
            "Epoch 10: 1229.2308359286767\n",
            "Epoch 11: 1194.4381399720905\n",
            "Epoch 12: 1162.9027696027408\n",
            "Epoch 13: 1127.270232841327\n",
            "Epoch 14: 1103.7157352823758\n",
            "Epoch 15: 1067.6062840227044\n",
            "Epoch 16: 1043.7844614969574\n",
            "Epoch 17: 1021.7270563264393\n",
            "Epoch 18: 994.8066490196167\n",
            "Epoch 19: 972.4758495084485\n"
          ],
          "name": "stdout"
        }
      ]
    },
    {
      "cell_type": "code",
      "metadata": {
        "colab": {
          "base_uri": "https://localhost:8080/",
          "height": 717
        },
        "id": "RCmcFp4OIUb_",
        "outputId": "bc7e9ace-174a-4e98-ee48-b89201ce5a8d"
      },
      "source": [
        "np.set_printoptions(suppress=True)\r\n",
        "import matplotlib.pyplot as plt\r\n",
        "\r\n",
        "test = x_train[0]\r\n",
        "mask = mask_model(test)\r\n",
        "mask = tf.reshape(mask, [-1, 28, 28])\r\n",
        "masked = mask * test\r\n",
        "\r\n",
        "\r\n",
        "fig = plt.figure(dpi=200)\r\n",
        "\r\n",
        "for i in range(0, 18, 3):\r\n",
        "  plt.subplot(6, 3, i+1)\r\n",
        "  plt.imshow(test[i], cmap='gray')\r\n",
        "\r\n",
        "  plt.subplot(6, 3, i+2)\r\n",
        "  plt.imshow(masked[i], cmap='gray')\r\n",
        "\r\n",
        "  plt.subplot(6, 3, i+3)\r\n",
        "  plt.imshow(masked[i], cmap='gray')\r\n",
        "\r\n",
        "\r\n",
        "plt.show()\r\n"
      ],
      "execution_count": 40,
      "outputs": [
        {
          "output_type": "display_data",
          "data": {
            "image/png": "[encoded data removed]",
            "text/plain": [
              "<Figure size 1200x800 with 18 Axes>"
            ]
          },
          "metadata": {
            "tags": [],
            "needs_background": "light"
          }
        }
      ]
    }
  ]
}